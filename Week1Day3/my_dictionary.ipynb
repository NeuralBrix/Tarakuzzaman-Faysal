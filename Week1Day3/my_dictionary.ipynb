{
 "cells": [
  {
   "cell_type": "code",
   "execution_count": 31,
   "id": "ce46f8a9",
   "metadata": {},
   "outputs": [],
   "source": [
    "dict = {\"accuracy\": 95, \"epochs\": 200, \"optimizer\": 'adam', \"batch_size\": 32, \"activation\": 'relu'}"
   ]
  },
  {
   "cell_type": "code",
   "execution_count": 32,
   "id": "befccf62",
   "metadata": {},
   "outputs": [
    {
     "data": {
      "text/plain": [
       "{'accuracy': 95,\n",
       " 'epochs': 200,\n",
       " 'optimizer': 'adam',\n",
       " 'batch_size': 32,\n",
       " 'activation': 'relu'}"
      ]
     },
     "execution_count": 32,
     "metadata": {},
     "output_type": "execute_result"
    }
   ],
   "source": [
    "dict"
   ]
  },
  {
   "cell_type": "code",
   "execution_count": 33,
   "id": "5969b773",
   "metadata": {},
   "outputs": [
    {
     "ename": "KeyError",
     "evalue": "'learning_rate'",
     "output_type": "error",
     "traceback": [
      "\u001b[1;31m---------------------------------------------------------------------------\u001b[0m",
      "\u001b[1;31mKeyError\u001b[0m                                  Traceback (most recent call last)",
      "Cell \u001b[1;32mIn[33], line 1\u001b[0m\n\u001b[1;32m----> 1\u001b[0m \u001b[38;5;28;43mdict\u001b[39;49m\u001b[43m[\u001b[49m\u001b[38;5;124;43m\"\u001b[39;49m\u001b[38;5;124;43mlearning_rate\u001b[39;49m\u001b[38;5;124;43m\"\u001b[39;49m\u001b[43m]\u001b[49m\n",
      "\u001b[1;31mKeyError\u001b[0m: 'learning_rate'"
     ]
    }
   ],
   "source": [
    "dict[\"learning_rate\"]"
   ]
  },
  {
   "cell_type": "code",
   "execution_count": 34,
   "id": "709ecb49",
   "metadata": {},
   "outputs": [
    {
     "data": {
      "text/plain": [
       "200"
      ]
     },
     "execution_count": 34,
     "metadata": {},
     "output_type": "execute_result"
    }
   ],
   "source": [
    "# set methose\n",
    "dict.get(\"learning_rate\", \"Not Found\")\n",
    "dict.get(\"epochs\", \"Not Found\")"
   ]
  },
  {
   "cell_type": "code",
   "execution_count": 35,
   "id": "32617743",
   "metadata": {},
   "outputs": [
    {
     "data": {
      "text/plain": [
       "'relu'"
      ]
     },
     "execution_count": 35,
     "metadata": {},
     "output_type": "execute_result"
    }
   ],
   "source": [
    "dict.pop(\"activation\")"
   ]
  },
  {
   "cell_type": "code",
   "execution_count": 36,
   "id": "f46a5464",
   "metadata": {},
   "outputs": [
    {
     "data": {
      "text/plain": [
       "{'accuracy': 95, 'epochs': 200, 'optimizer': 'adam', 'batch_size': 32}"
      ]
     },
     "execution_count": 36,
     "metadata": {},
     "output_type": "execute_result"
    }
   ],
   "source": [
    "dict"
   ]
  },
  {
   "cell_type": "code",
   "execution_count": 37,
   "id": "281df0d4",
   "metadata": {},
   "outputs": [
    {
     "data": {
      "text/plain": [
       "('batch_size', 32)"
      ]
     },
     "execution_count": 37,
     "metadata": {},
     "output_type": "execute_result"
    }
   ],
   "source": [
    "dict.popitem()"
   ]
  },
  {
   "cell_type": "code",
   "execution_count": 38,
   "id": "23c3f59d",
   "metadata": {},
   "outputs": [
    {
     "data": {
      "text/plain": [
       "{'model1': {'accuracy': 95, 'epochs': 200},\n",
       " 'model2': {'optimizer': 'adam', 'batch_size': 32}}"
      ]
     },
     "execution_count": 38,
     "metadata": {},
     "output_type": "execute_result"
    }
   ],
   "source": [
    "# Nested dictionary\n",
    "evaluation = {\n",
    "    \"model1\": {\"accuracy\": 95, \"epochs\": 200},\n",
    "    \"model2\": {\"optimizer\": \"adam\", \"batch_size\": 32}\n",
    "}\n",
    "evaluation"
   ]
  },
  {
   "cell_type": "code",
   "execution_count": 39,
   "id": "1e7df926",
   "metadata": {},
   "outputs": [
    {
     "name": "stdout",
     "output_type": "stream",
     "text": [
      "Removed optimizer: adam\n",
      "{'accuracy': 95, 'epochs': 200}\n",
      "Removed epochs: 200\n",
      "{'accuracy': 95}\n",
      "Removed accuracy: 95\n",
      "{}\n"
     ]
    }
   ],
   "source": [
    "while dict:\n",
    "    key, value = dict.popitem()\n",
    "    print(f\"Removed {key}: {value}\")\n",
    "    print(dict)\n",
    " "
   ]
  },
  {
   "cell_type": "code",
   "execution_count": null,
   "id": "dc0a1be3",
   "metadata": {},
   "outputs": [],
   "source": []
  }
 ],
 "metadata": {
  "kernelspec": {
   "display_name": "mljobVenv",
   "language": "python",
   "name": "python3"
  },
  "language_info": {
   "codemirror_mode": {
    "name": "ipython",
    "version": 3
   },
   "file_extension": ".py",
   "mimetype": "text/x-python",
   "name": "python",
   "nbconvert_exporter": "python",
   "pygments_lexer": "ipython3",
   "version": "3.10.18"
  }
 },
 "nbformat": 4,
 "nbformat_minor": 5
}
