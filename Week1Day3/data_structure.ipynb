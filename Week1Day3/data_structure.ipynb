{
 "cells": [
  {
   "cell_type": "code",
   "execution_count": 2,
   "id": "a4112c9f",
   "metadata": {},
   "outputs": [
    {
     "data": {
      "text/plain": [
       "['faysal', 'zunayed', 'amin', 'tanim']"
      ]
     },
     "execution_count": 2,
     "metadata": {},
     "output_type": "execute_result"
    }
   ],
   "source": [
    "lst = [\"faysal\", \"zunayed\", \"amin\", \"tanim\"]\n",
    "lst"
   ]
  },
  {
   "cell_type": "code",
   "execution_count": 5,
   "id": "5f57b2f6",
   "metadata": {},
   "outputs": [
    {
     "data": {
      "text/plain": [
       "('faysal', 'zunayed', 'amin', 'tanim')"
      ]
     },
     "execution_count": 5,
     "metadata": {},
     "output_type": "execute_result"
    }
   ],
   "source": [
    "lst[0], lst[1], lst[2], lst[3]"
   ]
  },
  {
   "cell_type": "code",
   "execution_count": 6,
   "id": "c1c622f4",
   "metadata": {},
   "outputs": [
    {
     "data": {
      "text/plain": [
       "['faysal', 'zunayed']"
      ]
     },
     "execution_count": 6,
     "metadata": {},
     "output_type": "execute_result"
    }
   ],
   "source": [
    "lst[0:2]"
   ]
  },
  {
   "cell_type": "code",
   "execution_count": 10,
   "id": "bd4522f0",
   "metadata": {},
   "outputs": [
    {
     "data": {
      "text/plain": [
       "['zunayed', 'amin']"
      ]
     },
     "execution_count": 10,
     "metadata": {},
     "output_type": "execute_result"
    }
   ],
   "source": [
    "lst[1:3]"
   ]
  },
  {
   "cell_type": "code",
   "execution_count": 11,
   "id": "b3bad1fc",
   "metadata": {},
   "outputs": [
    {
     "data": {
      "text/plain": [
       "['faysal', 'zunayed', 'amin']"
      ]
     },
     "execution_count": 11,
     "metadata": {},
     "output_type": "execute_result"
    }
   ],
   "source": [
    "lst[:3]"
   ]
  },
  {
   "cell_type": "code",
   "execution_count": 8,
   "id": "647487be",
   "metadata": {},
   "outputs": [
    {
     "data": {
      "text/plain": [
       "'tanim'"
      ]
     },
     "execution_count": 8,
     "metadata": {},
     "output_type": "execute_result"
    }
   ],
   "source": [
    "lst[-1]"
   ]
  },
  {
   "cell_type": "code",
   "execution_count": 9,
   "id": "a0469b0e",
   "metadata": {},
   "outputs": [
    {
     "data": {
      "text/plain": [
       "('tanim', 'amin', 'zunayed', 'faysal')"
      ]
     },
     "execution_count": 9,
     "metadata": {},
     "output_type": "execute_result"
    }
   ],
   "source": [
    "lst[-1], lst[-2], lst[-3], lst[-4]"
   ]
  },
  {
   "cell_type": "code",
   "execution_count": 12,
   "id": "4dfa8fa1",
   "metadata": {},
   "outputs": [
    {
     "data": {
      "text/plain": [
       "['faysal', 'zunayed']"
      ]
     },
     "execution_count": 12,
     "metadata": {},
     "output_type": "execute_result"
    }
   ],
   "source": [
    "lst[:-2]"
   ]
  },
  {
   "cell_type": "code",
   "execution_count": 13,
   "id": "5a22bcf9",
   "metadata": {},
   "outputs": [
    {
     "data": {
      "text/plain": [
       "['faysal', 'zunayed', 'amin']"
      ]
     },
     "execution_count": 13,
     "metadata": {},
     "output_type": "execute_result"
    }
   ],
   "source": [
    "lst[:-1]"
   ]
  },
  {
   "cell_type": "markdown",
   "id": "1d89f06a",
   "metadata": {},
   "source": [
    "2 ways to add value in list. \n",
    "1. Append \"list.append()\"\n",
    "2. Insert \"list.insert()\""
   ]
  },
  {
   "cell_type": "code",
   "execution_count": 14,
   "id": "989e136d",
   "metadata": {},
   "outputs": [
    {
     "data": {
      "text/plain": [
       "['faysal', 'zunayed', 'amin', 'tanim', 'Orange']"
      ]
     },
     "execution_count": 14,
     "metadata": {},
     "output_type": "execute_result"
    }
   ],
   "source": [
    "# append add value at the end of the list\n",
    "lst.append('Orange')\n",
    "lst"
   ]
  },
  {
   "cell_type": "code",
   "execution_count": 16,
   "id": "c54865b3",
   "metadata": {},
   "outputs": [
    {
     "data": {
      "text/plain": [
       "['faysal', 'apple', 'zunayed', 'amin', 'tanim', 'Orange']"
      ]
     },
     "execution_count": 16,
     "metadata": {},
     "output_type": "execute_result"
    }
   ],
   "source": [
    "# insert add value at a specific index\n",
    "lst.insert(1, 'apple')\n",
    "lst"
   ]
  },
  {
   "cell_type": "code",
   "execution_count": 17,
   "id": "fb03bcc6",
   "metadata": {},
   "outputs": [
    {
     "name": "stdout",
     "output_type": "stream",
     "text": [
      "index: 0, name: faysal\n",
      "index: 1, name: apple\n",
      "index: 2, name: zunayed\n",
      "index: 3, name: amin\n",
      "index: 4, name: tanim\n",
      "index: 5, name: Orange\n"
     ]
    }
   ],
   "source": [
    "for index, name in enumerate(lst):\n",
    "    print(f'index: {index}, name: {name}')"
   ]
  },
  {
   "cell_type": "code",
   "execution_count": 18,
   "id": "f0ce193d",
   "metadata": {},
   "outputs": [
    {
     "data": {
      "text/plain": [
       "['faysal', 'apple', 'zunayed', 'amin', 'tanim', 'Orange']"
      ]
     },
     "execution_count": 18,
     "metadata": {},
     "output_type": "execute_result"
    }
   ],
   "source": [
    "lst"
   ]
  },
  {
   "cell_type": "code",
   "execution_count": 19,
   "id": "73057a7d",
   "metadata": {},
   "outputs": [
    {
     "data": {
      "text/plain": [
       "['faysal', 'zunayed', 'amin', 'tanim', 'Orange']"
      ]
     },
     "execution_count": 19,
     "metadata": {},
     "output_type": "execute_result"
    }
   ],
   "source": [
    "# delete a value from list\n",
    "lst.remove('apple')\n",
    "lst"
   ]
  },
  {
   "cell_type": "code",
   "execution_count": 21,
   "id": "532818a6",
   "metadata": {},
   "outputs": [
    {
     "name": "stdout",
     "output_type": "stream",
     "text": [
      "index: 0, name: faysal\n",
      "index: 1, name: zunayed\n",
      "index: 2, name: amin\n",
      "index: 3, name: tanim\n",
      "index: 4, name: Orange\n"
     ]
    }
   ],
   "source": [
    "for index, name in enumerate(lst):\n",
    "    print(f'index: {index}, name: {name}')"
   ]
  },
  {
   "cell_type": "code",
   "execution_count": 22,
   "id": "4fc893b8",
   "metadata": {},
   "outputs": [
    {
     "data": {
      "text/plain": [
       "['faysal', 'zunayed', 'amin', 'Orange']"
      ]
     },
     "execution_count": 22,
     "metadata": {},
     "output_type": "execute_result"
    }
   ],
   "source": [
    "del lst[3] #delete by index\n",
    "lst"
   ]
  },
  {
   "cell_type": "code",
   "execution_count": 23,
   "id": "c2684083",
   "metadata": {},
   "outputs": [
    {
     "data": {
      "text/plain": [
       "'Orange'"
      ]
     },
     "execution_count": 23,
     "metadata": {},
     "output_type": "execute_result"
    }
   ],
   "source": [
    "pop_value = lst.pop()\n",
    "pop_value"
   ]
  },
  {
   "cell_type": "code",
   "execution_count": null,
   "id": "1fd7b3aa",
   "metadata": {},
   "outputs": [],
   "source": []
  },
  {
   "cell_type": "code",
   "execution_count": null,
   "id": "5f653726",
   "metadata": {},
   "outputs": [],
   "source": []
  }
 ],
 "metadata": {
  "kernelspec": {
   "display_name": "mljobVenv",
   "language": "python",
   "name": "python3"
  },
  "language_info": {
   "codemirror_mode": {
    "name": "ipython",
    "version": 3
   },
   "file_extension": ".py",
   "mimetype": "text/x-python",
   "name": "python",
   "nbconvert_exporter": "python",
   "pygments_lexer": "ipython3",
   "version": "3.10.18"
  }
 },
 "nbformat": 4,
 "nbformat_minor": 5
}
