{
 "cells": [
  {
   "cell_type": "code",
   "execution_count": 39,
   "id": "fc42a8d6",
   "metadata": {},
   "outputs": [
    {
     "data": {
      "text/plain": [
       "(['Faysal', 'Tanin', 'Amin', 'Zunayed', 'Jobayer', 'Mahfuj', 'Jahid'],\n",
       " [85, 72, 80, 90, 76, 88, 69])"
      ]
     },
     "execution_count": 39,
     "metadata": {},
     "output_type": "execute_result"
    }
   ],
   "source": [
    "names = [\"Faysal\", \"Tanin\", \"Amin\", \"Zunayed\", \"Jobayer\", \"Mahfuj\", \"Jahid\"]\n",
    "marks = [85, 72, 80, 90, 76, 88, 69]\n",
    "names, marks"
   ]
  },
  {
   "cell_type": "code",
   "execution_count": 40,
   "id": "74329bed",
   "metadata": {},
   "outputs": [
    {
     "name": "stdout",
     "output_type": "stream",
     "text": [
      "{'Faysal': 85, 'Tanin': 72, 'Amin': 80, 'Zunayed': 90, 'Jobayer': 76, 'Mahfuj': 88, 'Jahid': 69}\n"
     ]
    }
   ],
   "source": [
    "marks_dict = {}\n",
    "for i in range(len(names)):\n",
    "    marks_dict[names[i]] = marks[i]\n",
    "print(marks_dict)\n"
   ]
  },
  {
   "cell_type": "code",
   "execution_count": 41,
   "id": "83f773f0",
   "metadata": {},
   "outputs": [
    {
     "name": "stdout",
     "output_type": "stream",
     "text": [
      "Total marks is : 560\n",
      "Average marks is : 80.0\n"
     ]
    }
   ],
   "source": [
    "total_marks = 0\n",
    "values = marks_dict.values()\n",
    "values \n",
    "for value in values:\n",
    "    total_marks += value\n",
    "print(f\"Total marks is : {total_marks}\")\n",
    "average = total_marks / len(marks_dict)\n",
    "print(f\"Average marks is : {average}\")"
   ]
  },
  {
   "cell_type": "code",
   "execution_count": 42,
   "id": "bb7d52e6",
   "metadata": {},
   "outputs": [
    {
     "name": "stdout",
     "output_type": "stream",
     "text": [
      "Total marks is: 560\n",
      "Average marks is: 80.0\n"
     ]
    }
   ],
   "source": [
    "total = 0\n",
    "marks = marks_dict.values()\n",
    "marks\n",
    "total = sum(marks)\n",
    "print(f\"Total marks is: {total}\")\n",
    "average1 = total / len(marks_dict)\n",
    "print(f\"Average marks is: {average1}\")"
   ]
  },
  {
   "cell_type": "code",
   "execution_count": null,
   "id": "e822c62d",
   "metadata": {},
   "outputs": [],
   "source": []
  }
 ],
 "metadata": {
  "kernelspec": {
   "display_name": "mljobVenv",
   "language": "python",
   "name": "python3"
  },
  "language_info": {
   "codemirror_mode": {
    "name": "ipython",
    "version": 3
   },
   "file_extension": ".py",
   "mimetype": "text/x-python",
   "name": "python",
   "nbconvert_exporter": "python",
   "pygments_lexer": "ipython3",
   "version": "3.10.18"
  }
 },
 "nbformat": 4,
 "nbformat_minor": 5
}
