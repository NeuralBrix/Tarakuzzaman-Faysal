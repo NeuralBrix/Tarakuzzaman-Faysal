{
 "cells": [
  {
   "cell_type": "code",
   "execution_count": 2,
   "id": "8e782d3f",
   "metadata": {},
   "outputs": [
    {
     "name": "stdout",
     "output_type": "stream",
     "text": [
      "8\n",
      "Multiplication:  15\n",
      "Division:  0.6\n",
      "Subtraction:  -2\n"
     ]
    }
   ],
   "source": [
    "def add2nums(a, b): #only add 2 numbers\n",
    "    print(a + b)\n",
    "    # perform multi, division, and sub \n",
    "    print(\"Multiplication: \", a * b)\n",
    "    print(\"Division: \", a / b)\n",
    "    print(\"Subtraction: \", a - b)\n",
    "add2nums(3,5)\n",
    "\n"
   ]
  },
  {
   "cell_type": "code",
   "execution_count": 4,
   "id": "6bf9b9cb",
   "metadata": {},
   "outputs": [
    {
     "name": "stdout",
     "output_type": "stream",
     "text": [
      "Addition:  30\n",
      "Subtraction:  10\n",
      "Multiplication:  200\n",
      "Division:  2.0\n"
     ]
    }
   ],
   "source": [
    "def operate(func):\n",
    "    def wrapper():\n",
    "        def add(a, b):\n",
    "            return a + b\n",
    "        def subtract(a, b):\n",
    "            return a - b\n",
    "        def multiply(a, b):\n",
    "            return a * b\n",
    "        def devide(a, b):\n",
    "            return a / b if b != 0 else \"You Can not devide anything by Zero\"\n",
    "        print(\"Addition: \", add(10, 20))\n",
    "        print(\"Subtraction: \", subtract(20, 10))\n",
    "        print(\"Multiplication: \", multiply(10, 20))\n",
    "        print(\"Division: \", devide(20, 10))\n",
    "    return wrapper\n",
    "\n",
    "@operate\n",
    "def add(a, b):\n",
    "    return a + b\n",
    "result = add\n",
    "result()"
   ]
  },
  {
   "cell_type": "code",
   "execution_count": 5,
   "id": "008c3b47",
   "metadata": {},
   "outputs": [],
   "source": [
    "def ripon_video(func):\n",
    "    def wrapper():\n",
    "        print(\"HaHaHaHa\")\n",
    "        func()\n",
    "        print(\"Etai Bastob, I love You\")\n",
    "    return wrapper\n"
   ]
  },
  {
   "cell_type": "code",
   "execution_count": 6,
   "id": "84167063",
   "metadata": {},
   "outputs": [],
   "source": [
    "@ripon_video\n",
    "def name():\n",
    "    print(\"Faysal\")"
   ]
  },
  {
   "cell_type": "code",
   "execution_count": 7,
   "id": "a7e9e44b",
   "metadata": {},
   "outputs": [
    {
     "name": "stdout",
     "output_type": "stream",
     "text": [
      "HaHaHaHa\n",
      "Faysal\n",
      "Etai Bastob, I love You\n"
     ]
    }
   ],
   "source": [
    "name()"
   ]
  },
  {
   "cell_type": "code",
   "execution_count": 8,
   "id": "60c082d1",
   "metadata": {},
   "outputs": [],
   "source": [
    "def decorator(function):\n",
    "    def wrapper():\n",
    "        print(\"You are studying in\",end=\" \")\n",
    "        function()\n",
    "        print(\"in Daffodil International University\")\n",
    "    return wrapper    "
   ]
  },
  {
   "cell_type": "code",
   "execution_count": 9,
   "id": "80578a29",
   "metadata": {},
   "outputs": [],
   "source": [
    "@decorator\n",
    "def major():\n",
    "    print(\"CSE\")\n",
    "   "
   ]
  },
  {
   "cell_type": "code",
   "execution_count": 10,
   "id": "cc4dd5c1",
   "metadata": {},
   "outputs": [
    {
     "name": "stdout",
     "output_type": "stream",
     "text": [
      "You are studying in CSE\n",
      "in Daffodil International University\n"
     ]
    }
   ],
   "source": [
    "major()"
   ]
  },
  {
   "cell_type": "code",
   "execution_count": null,
   "id": "0ac11352",
   "metadata": {},
   "outputs": [],
   "source": []
  }
 ],
 "metadata": {
  "kernelspec": {
   "display_name": "mljobVenv",
   "language": "python",
   "name": "python3"
  },
  "language_info": {
   "codemirror_mode": {
    "name": "ipython",
    "version": 3
   },
   "file_extension": ".py",
   "mimetype": "text/x-python",
   "name": "python",
   "nbconvert_exporter": "python",
   "pygments_lexer": "ipython3",
   "version": "3.10.18"
  }
 },
 "nbformat": 4,
 "nbformat_minor": 5
}
