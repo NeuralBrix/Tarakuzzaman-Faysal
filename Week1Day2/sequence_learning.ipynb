{
 "cells": [
  {
   "cell_type": "code",
   "execution_count": 1,
   "id": "a72ace70",
   "metadata": {},
   "outputs": [],
   "source": [
    "list1 = [1, 2, 3, 4, 5, 6, 7, 8, 9, 10]\n",
    "list2 = [1, 2, 3, 4, 5, 6, 7, 8, 9, 10]"
   ]
  },
  {
   "cell_type": "code",
   "execution_count": 7,
   "id": "d15ea3b4",
   "metadata": {},
   "outputs": [
    {
     "name": "stdout",
     "output_type": "stream",
     "text": [
      "True\n",
      "False\n"
     ]
    }
   ],
   "source": [
    "print(list1 == list2) \n",
    "print(list1 is list2)  "
   ]
  },
  {
   "cell_type": "code",
   "execution_count": 11,
   "id": "09adbbbe",
   "metadata": {},
   "outputs": [],
   "source": [
    "list1_loc = hex(id(list1))\n",
    "list2_loc = hex(id(list2))"
   ]
  },
  {
   "cell_type": "code",
   "execution_count": 12,
   "id": "b094cbcd",
   "metadata": {},
   "outputs": [
    {
     "data": {
      "text/plain": [
       "('0x1d52fb843c0', '0x1d52fb85e80')"
      ]
     },
     "execution_count": 12,
     "metadata": {},
     "output_type": "execute_result"
    }
   ],
   "source": [
    "list1_loc, list2_loc"
   ]
  },
  {
   "cell_type": "code",
   "execution_count": null,
   "id": "4e7c23ef",
   "metadata": {},
   "outputs": [],
   "source": [
    "tup = (1,2,3,4,5,6,7,8,9,10) #tuple is immutable, cannot be changed\n",
    "set1 = {1,2,3,4,5,6} #set has no duplicate values."
   ]
  },
  {
   "cell_type": "code",
   "execution_count": 15,
   "id": "abd57b1e",
   "metadata": {},
   "outputs": [
    {
     "data": {
      "text/plain": [
       "{1, 2, 3, 4, 5, 6}"
      ]
     },
     "execution_count": 15,
     "metadata": {},
     "output_type": "execute_result"
    }
   ],
   "source": [
    "#set has no duplicate values, so if we add a duplicate value, it will not be added.\n",
    "set2 = {1,2,2,3,3,4,5,6,4}\n",
    "set2"
   ]
  },
  {
   "cell_type": "code",
   "execution_count": 19,
   "id": "cd33af3f",
   "metadata": {},
   "outputs": [
    {
     "name": "stdout",
     "output_type": "stream",
     "text": [
      "True\n",
      "False\n",
      "True\n",
      "False\n",
      "True\n",
      "False\n"
     ]
    }
   ],
   "source": [
    "tup1 = (1,2,3,4,5)\n",
    "tup2 = (1,2,3,4,5)\n",
    "\n",
    "set2 = {1,2,3,4,5,6}\n",
    "set3 = {1,2,3,4,5,6}\n",
    "\n",
    "lst1 = [1,2,3,4]\n",
    "lst2 = [1,2,3,4]\n",
    "\n",
    "print(tup1 == tup2)\n",
    "print(tup1 is tup2)\n",
    "print(set1 == set2)\n",
    "print(set1 is set2)\n",
    "print(lst1 == lst2)\n",
    "print(lst1 is lst2)"
   ]
  },
  {
   "cell_type": "code",
   "execution_count": null,
   "id": "685679ff",
   "metadata": {},
   "outputs": [],
   "source": []
  }
 ],
 "metadata": {
  "kernelspec": {
   "display_name": "mljobVenv",
   "language": "python",
   "name": "python3"
  },
  "language_info": {
   "codemirror_mode": {
    "name": "ipython",
    "version": 3
   },
   "file_extension": ".py",
   "mimetype": "text/x-python",
   "name": "python",
   "nbconvert_exporter": "python",
   "pygments_lexer": "ipython3",
   "version": "3.10.18"
  }
 },
 "nbformat": 4,
 "nbformat_minor": 5
}
