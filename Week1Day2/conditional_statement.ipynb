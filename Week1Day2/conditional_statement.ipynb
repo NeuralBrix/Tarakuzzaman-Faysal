{
 "cells": [
  {
   "cell_type": "code",
   "execution_count": 1,
   "id": "795df0a5",
   "metadata": {},
   "outputs": [
    {
     "name": "stdout",
     "output_type": "stream",
     "text": [
      "you can vote from now on\n"
     ]
    }
   ],
   "source": [
    "age = 26\n",
    "if age >= 18:\n",
    "    print('you can vote from now on')"
   ]
  },
  {
   "cell_type": "code",
   "execution_count": 2,
   "id": "243cc50a",
   "metadata": {},
   "outputs": [
    {
     "name": "stdout",
     "output_type": "stream",
     "text": [
      "You have passed the exam\n"
     ]
    }
   ],
   "source": [
    "marks = 85\n",
    "if marks >= 33:\n",
    "    print(\"You have passed the exam\")\n",
    "else:\n",
    "    print(\"You have failed the exam\")"
   ]
  },
  {
   "cell_type": "code",
   "execution_count": 5,
   "id": "a21f0a44",
   "metadata": {},
   "outputs": [
    {
     "name": "stdout",
     "output_type": "stream",
     "text": [
      "The weather is hot outside\n"
     ]
    }
   ],
   "source": [
    "Temperature = 33\n",
    "if Temperature < 25:\n",
    "    print(\"The weather is cold outside\")\n",
    "elif Temperature == 30:\n",
    "    print(\"The weather is moderate outside\")\n",
    "else:\n",
    "    print(\"The weather is hot outside\")\n"
   ]
  },
  {
   "cell_type": "code",
   "execution_count": 7,
   "id": "372bb7ae",
   "metadata": {},
   "outputs": [
    {
     "name": "stdout",
     "output_type": "stream",
     "text": [
      "True\n",
      "False\n"
     ]
    }
   ],
   "source": [
    "name = \"Faysal\"\n",
    "print(name == \"Faysal\")\n",
    "print(name != \"Faysal\")"
   ]
  },
  {
   "cell_type": "code",
   "execution_count": 10,
   "id": "4dbe4360",
   "metadata": {},
   "outputs": [
    {
     "name": "stdout",
     "output_type": "stream",
     "text": [
      "False\n",
      "True\n"
     ]
    }
   ],
   "source": [
    "result = 80\n",
    "print(result >= 40 and result <= 60)\n",
    "print(result >= 40 or result <= 60)"
   ]
  },
  {
   "cell_type": "code",
   "execution_count": 12,
   "id": "15f652cb",
   "metadata": {},
   "outputs": [
    {
     "name": "stdout",
     "output_type": "stream",
     "text": [
      "False\n",
      "True\n"
     ]
    }
   ],
   "source": [
    "a = False\n",
    "print(a)\n",
    "y = not a\n",
    "print(y)"
   ]
  },
  {
   "cell_type": "code",
   "execution_count": 15,
   "id": "776e63e1",
   "metadata": {},
   "outputs": [
    {
     "name": "stdout",
     "output_type": "stream",
     "text": [
      "False\n",
      "True\n"
     ]
    }
   ],
   "source": [
    "#Identify operators\n",
    "\n",
    "a = 25\n",
    "b = 35\n",
    "print(a is b)\n",
    "print(a is not b)\n",
    "\n"
   ]
  },
  {
   "cell_type": "code",
   "execution_count": 17,
   "id": "2d533ba3",
   "metadata": {},
   "outputs": [
    {
     "name": "stdout",
     "output_type": "stream",
     "text": [
      "False\n",
      "True\n"
     ]
    }
   ],
   "source": [
    "list1 = [1, 2, 3, 4, 5]\n",
    "list2 = [1, 2, 3, 4, 5]\n",
    "\n",
    "print(list1 is list2)\n",
    "print(list1 is not list2)"
   ]
  },
  {
   "cell_type": "code",
   "execution_count": 20,
   "id": "e09e66dc",
   "metadata": {},
   "outputs": [
    {
     "name": "stdout",
     "output_type": "stream",
     "text": [
      "1647959257472\n",
      "1647960315584\n",
      "0x17fb206b180\n",
      "0x17fb216d6c0\n"
     ]
    }
   ],
   "source": [
    "print(id(list1))\n",
    "print(id(list2))\n",
    "\n",
    "print(hex(id(list1)))\n",
    "print(hex(id(list2)))"
   ]
  },
  {
   "cell_type": "code",
   "execution_count": null,
   "id": "407fe0ac",
   "metadata": {},
   "outputs": [],
   "source": []
  }
 ],
 "metadata": {
  "kernelspec": {
   "display_name": "mljobVenv",
   "language": "python",
   "name": "python3"
  },
  "language_info": {
   "codemirror_mode": {
    "name": "ipython",
    "version": 3
   },
   "file_extension": ".py",
   "mimetype": "text/x-python",
   "name": "python",
   "nbconvert_exporter": "python",
   "pygments_lexer": "ipython3",
   "version": "3.10.18"
  }
 },
 "nbformat": 4,
 "nbformat_minor": 5
}
