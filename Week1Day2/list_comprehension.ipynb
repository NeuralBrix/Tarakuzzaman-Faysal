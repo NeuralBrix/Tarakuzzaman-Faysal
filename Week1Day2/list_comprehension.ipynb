{
 "cells": [
  {
   "cell_type": "code",
   "execution_count": 17,
   "id": "454dcee1",
   "metadata": {},
   "outputs": [],
   "source": [
    "lst = []"
   ]
  },
  {
   "cell_type": "code",
   "execution_count": 18,
   "id": "009963b7",
   "metadata": {},
   "outputs": [
    {
     "name": "stdout",
     "output_type": "stream",
     "text": [
      "[1]\n"
     ]
    }
   ],
   "source": [
    "lst.append(1)\n",
    "print(lst)"
   ]
  },
  {
   "cell_type": "code",
   "execution_count": 19,
   "id": "65b843b7",
   "metadata": {},
   "outputs": [
    {
     "data": {
      "text/plain": [
       "[1, 'faysal']"
      ]
     },
     "execution_count": 19,
     "metadata": {},
     "output_type": "execute_result"
    }
   ],
   "source": [
    "lst.append('faysal')\n",
    "lst"
   ]
  },
  {
   "cell_type": "code",
   "execution_count": 22,
   "id": "029fad7e",
   "metadata": {},
   "outputs": [
    {
     "data": {
      "text/plain": [
       "['faysal', 'zunayed', 'amin', 'tanim']"
      ]
     },
     "execution_count": 22,
     "metadata": {},
     "output_type": "execute_result"
    }
   ],
   "source": [
    "lst2 = [\"faysal\", \"zunayed\", \"amin\", \"tanim\"]\n",
    "lst2"
   ]
  },
  {
   "cell_type": "code",
   "execution_count": 23,
   "id": "5cd38e16",
   "metadata": {},
   "outputs": [
    {
     "name": "stdout",
     "output_type": "stream",
     "text": [
      "(0, 'faysal')\n",
      "(1, 'zunayed')\n",
      "(2, 'amin')\n",
      "(3, 'tanim')\n"
     ]
    }
   ],
   "source": [
    "for i in enumerate(lst2):\n",
    "    print(i)"
   ]
  },
  {
   "cell_type": "code",
   "execution_count": 26,
   "id": "41579aab",
   "metadata": {},
   "outputs": [
    {
     "name": "stdout",
     "output_type": "stream",
     "text": [
      "Roll: 0, Name faysal\n",
      "Roll: 1, Name zunayed\n",
      "Roll: 2, Name amin\n",
      "Roll: 3, Name tanim\n"
     ]
    }
   ],
   "source": [
    "for roll, name in enumerate(lst2):\n",
    "    print(f\"Roll: {roll}, Name {name}\")"
   ]
  },
  {
   "cell_type": "code",
   "execution_count": 28,
   "id": "88303919",
   "metadata": {},
   "outputs": [
    {
     "name": "stdout",
     "output_type": "stream",
     "text": [
      "Roll: 1, Name: faysal\n",
      "Roll: 2, Name: zunayed\n",
      "Roll: 3, Name: amin\n",
      "Roll: 4, Name: tanim\n"
     ]
    }
   ],
   "source": [
    "for roll, name in enumerate(lst2, start=1):\n",
    "    print(f\"Roll: {roll}, Name: {name}\")"
   ]
  },
  {
   "cell_type": "code",
   "execution_count": null,
   "id": "ce1d7966",
   "metadata": {},
   "outputs": [
    {
     "name": "stdout",
     "output_type": "stream",
     "text": [
      "Roll: faysal, Name: 1 \n",
      "Roll: zunayed, Name: 2 \n",
      "Roll: amin, Name: 3 \n",
      "Roll: tanim, Name: 4 \n"
     ]
    }
   ],
   "source": [
    "#playing with enumerate\n",
    "for roll, name in enumerate(lst2, start=1):\n",
    "    print(f\"Roll: {name}, Name: {roll} \")"
   ]
  },
  {
   "cell_type": "code",
   "execution_count": 37,
   "id": "1919a2c8",
   "metadata": {},
   "outputs": [
    {
     "name": "stdout",
     "output_type": "stream",
     "text": [
      "Value of a is 5\n"
     ]
    }
   ],
   "source": [
    "a = 5\n",
    "while a == 5:\n",
    "    print(\"Value of a is\", a)\n",
    "    a  += 1\n",
    "    break"
   ]
  },
  {
   "cell_type": "code",
   "execution_count": null,
   "id": "2a224fbd",
   "metadata": {},
   "outputs": [
    {
     "name": "stdout",
     "output_type": "stream",
     "text": [
      "Value of b is 10\n",
      "Value of b is 10\n",
      "Value of b is 10\n",
      "Value of b is 10\n",
      "Value of b is 10\n"
     ]
    }
   ],
   "source": [
    "#playing with while loop\n",
    "b = 10\n",
    "while b == 10:\n",
    "    for i in range(5):\n",
    "        print(\"Value of b is\", b)\n",
    "        \n",
    "    b += 1 \n",
    "    break  \n"
   ]
  },
  {
   "cell_type": "code",
   "execution_count": null,
   "id": "f4265dcb",
   "metadata": {},
   "outputs": [],
   "source": []
  }
 ],
 "metadata": {
  "kernelspec": {
   "display_name": "mljobVenv",
   "language": "python",
   "name": "python3"
  },
  "language_info": {
   "codemirror_mode": {
    "name": "ipython",
    "version": 3
   },
   "file_extension": ".py",
   "mimetype": "text/x-python",
   "name": "python",
   "nbconvert_exporter": "python",
   "pygments_lexer": "ipython3",
   "version": "3.10.18"
  }
 },
 "nbformat": 4,
 "nbformat_minor": 5
}
